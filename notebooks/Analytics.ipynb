{
 "cells": [
  {
   "cell_type": "markdown",
   "metadata": {},
   "source": [
    "# Notebook: Analyzing Labeled Anomaly Data\n",
    "\n",
    "**Location:** `notebooks/Analytics.ipynb`  \n",
    "**Purpose:** Load `data/results/new_data_labeled.csv` (output of our anomaly‐detection pipeline) and perform exploratory and summary analyses to understand the behavior of your sensors and anomalies.  \n"
   ]
  },
  {
   "cell_type": "code",
   "execution_count": null,
   "metadata": {},
   "outputs": [],
   "source": [
    "# Cell 1: Imports and path definitions\n",
    "\n",
    "import pandas as pd\n",
    "import numpy as np\n",
    "import matplotlib.pyplot as plt\n",
    "from pathlib import Path\n",
    "\n",
    "# Configure matplotlib for inline display\n",
    "%matplotlib inline\n",
    "\n",
    "# Define paths (assuming this notebook is in notebooks/ folder)\n",
    "notebook_dir = Path().resolve().parent / \"notebooks\"\n",
    "# Path to the labeled CSV:\n",
    "labeled_csv = Path().resolve().parent / \"data\" / \"results\" / \"new_data_labeled.csv\"\n",
    "\n",
    "# Check that file exists\n",
    "assert labeled_csv.exists(), f\"File not found: {labeled_csv}\"\n",
    "print(f\"Loading data from: {labeled_csv}\")"
   ]
  },
  {
   "cell_type": "code",
   "execution_count": null,
   "metadata": {},
   "outputs": [],
   "source": [
    "# Cell 2: Load data into a pandas DataFrame\n",
    "df = pd.read_csv(labeled_csv, parse_dates=[\"timestamp\"])\n",
    "\n",
    "# Display first few rows\n",
    "display(df.head(10))\n",
    "\n",
    "# Show DataFrame info (dtypes, non-null counts)\n",
    "df.info()\n"
   ]
  },
  {
   "cell_type": "code",
   "execution_count": null,
   "metadata": {},
   "outputs": [],
   "source": [
    "# Cell 3: Descriptive statistics for raw sensors and accel_mag\n",
    "sensor_cols = [\"temp_C\", \"humidity_%\", \"accel_x\", \"accel_y\", \"accel_z\", \"accel_mag\"]\n",
    "desc = df[sensor_cols].describe().T\n",
    "desc[\"skew\"] = df[sensor_cols].skew().round(2)\n",
    "desc[\"kurtosis\"] = df[sensor_cols].kurtosis().round(2)\n",
    "display(desc)\n"
   ]
  },
  {
   "cell_type": "code",
   "execution_count": null,
   "metadata": {},
   "outputs": [],
   "source": [
    "# Cell 4: Overall anomaly counts\n",
    "counts = df[\"label_overall\"].value_counts().rename_axis(\"label\").reset_index(name=\"count\")\n",
    "counts[\"percent\"] = (counts[\"count\"] / counts[\"count\"].sum() * 100).round(2)\n",
    "display(counts)\n",
    "\n",
    "# Bar chart of anomaly vs. normal\n",
    "plt.figure(figsize=(4, 4))\n",
    "plt.bar(counts[\"label\"], counts[\"count\"], color=[\"skyblue\", \"salmon\"])\n",
    "plt.title(\"Overall Row Counts: Normal vs. Anomaly\")\n",
    "plt.ylabel(\"Count\")\n",
    "for i, v in enumerate(counts[\"count\"]):\n",
    "    plt.text(i, v + max(counts[\"count\"]) * 0.01, f\"{v}\", ha=\"center\")\n",
    "plt.tight_layout()\n",
    "plt.show()\n"
   ]
  },
  {
   "cell_type": "code",
   "execution_count": null,
   "metadata": {},
   "outputs": [],
   "source": [
    "# Cell 5: Count how many times each feature was flagged\n",
    "# We’ll split 'contributing_features' by comma and count occurrences\n",
    "all_contrib = df[\"contributing_features\"].str.split(\",\", expand=True).stack().reset_index(drop=True)\n",
    "feature_counts = all_contrib.value_counts().rename_axis(\"feature\").reset_index(name=\"count\")\n",
    "# Remove empty strings if present\n",
    "feature_counts = feature_counts[feature_counts[\"feature\"] != \"\"].reset_index(drop=True)\n",
    "\n",
    "display(feature_counts)\n",
    "\n",
    "# Bar chart\n",
    "plt.figure(figsize=(6, 4))\n",
    "plt.bar(feature_counts[\"feature\"], feature_counts[\"count\"], color=\"mediumseagreen\")\n",
    "plt.title(\"Count of Anomaly Occurrences by Contributing Feature\")\n",
    "plt.ylabel(\"Number of Rows Flagged\")\n",
    "plt.xticks(rotation=45)\n",
    "for idx, val in enumerate(feature_counts[\"count\"]):\n",
    "    plt.text(idx, val + max(feature_counts[\"count\"]) * 0.01, f\"{val}\", ha=\"center\")\n",
    "plt.tight_layout()\n",
    "plt.show()\n"
   ]
  },
  {
   "cell_type": "code",
   "execution_count": null,
   "metadata": {},
   "outputs": [],
   "source": [
    "# Cell 6: Compute percentage relative to total rows\n",
    "total_rows = len(df)\n",
    "feature_counts[\"percent_of_rows\"] = (feature_counts[\"count\"] / total_rows * 100).round(2)\n",
    "display(feature_counts)\n"
   ]
  },
  {
   "cell_type": "code",
   "execution_count": null,
   "metadata": {},
   "outputs": [],
   "source": [
    "# Cell 7: Function to plot a feature over time and highlight anomalies\n",
    "def plot_time_series(feature, ylabel):\n",
    "    plt.figure(figsize=(12, 4))\n",
    "    plt.plot(df[\"timestamp\"], df[feature], label=feature, linewidth=0.8)\n",
    "    # Mask rows where overall label is anomaly and that feature is in contributing_features\n",
    "    mask = (df[\"label_overall\"] == \"anomaly\") & df[\"contributing_features\"].str.contains(feature)\n",
    "    plt.scatter(df.loc[mask, \"timestamp\"], df.loc[mask, feature],\n",
    "                color=\"red\", s=20, label=\"Anomaly\", zorder=5)\n",
    "    plt.xlabel(\"Time (US/Eastern)\")\n",
    "    plt.ylabel(ylabel)\n",
    "    plt.title(f\"Time Series: {feature} (Anomalies in Red)\")\n",
    "    plt.xticks(rotation=45)\n",
    "    plt.legend()\n",
    "    plt.tight_layout()\n",
    "    plt.show()\n",
    "\n",
    "# Plot each feature\n",
    "plot_time_series(\"temp_C\", \"Temperature (°C)\")\n",
    "plot_time_series(\"humidity_%\", \"Humidity (%)\")\n",
    "plot_time_series(\"accel_x\", \"Acceleration X (g)\")\n",
    "plot_time_series(\"accel_y\", \"Acceleration Y (g)\")\n",
    "plot_time_series(\"accel_z\", \"Acceleration Z (g)\")\n"
   ]
  },
  {
   "cell_type": "code",
   "execution_count": null,
   "metadata": {},
   "outputs": [],
   "source": [
    "# Cell 8: Compute correlation on raw sensor features\n",
    "corr_matrix = df[sensor_cols].corr().round(2)\n",
    "\n",
    "plt.figure(figsize=(5, 5))\n",
    "plt.imshow(corr_matrix, vmin=-1, vmax=1, cmap=\"coolwarm\")\n",
    "plt.colorbar(fraction=0.046, pad=0.04)\n",
    "plt.xticks(range(len(sensor_cols)), sensor_cols, rotation=45)\n",
    "plt.yticks(range(len(sensor_cols)), sensor_cols)\n",
    "plt.title(\"Correlation Matrix: Raw Sensor Columns\")\n",
    "plt.tight_layout()\n",
    "plt.show()\n",
    "\n",
    "display(corr_matrix)\n"
   ]
  },
  {
   "cell_type": "code",
   "execution_count": null,
   "metadata": {},
   "outputs": [],
   "source": [
    "# Cell 9: Histograms of z-scores for each feature\n",
    "z_cols = [f\"z_{f}\" for f in feature_list]\n",
    "\n",
    "plt.figure(figsize=(10, 6))\n",
    "for idx, zcol in enumerate(z_cols):\n",
    "    plt.subplot(2, 3, idx + 1)\n",
    "    df[zcol].hist(bins=30, edgecolor=\"black\")\n",
    "    plt.axvline(3, color=\"red\", linestyle=\"--\", label=\"±3σ\")\n",
    "    plt.axvline(-3, color=\"red\", linestyle=\"--\")\n",
    "    plt.title(zcol)\n",
    "    plt.xlabel(\"z-score\")\n",
    "    plt.ylabel(\"Count\")\n",
    "    plt.legend()\n",
    "\n",
    "plt.tight_layout()\n",
    "plt.show()\n"
   ]
  },
  {
   "cell_type": "code",
   "execution_count": null,
   "metadata": {},
   "outputs": [],
   "source": [
    "# Cell 10: Extract hour from timestamp\n",
    "df[\"hour\"] = df[\"timestamp\"].dt.hour\n",
    "\n",
    "# Count anomalies per hour and compute percentage\n",
    "hourly = df.groupby(\"hour\").apply(\n",
    "    lambda sub: (sub[\"label_overall\"] == \"anomaly\").sum() / len(sub) * 100\n",
    ").rename(\"percent_anomaly\").reset_index()\n",
    "\n",
    "display(hourly)\n",
    "\n",
    "# Plot hourly anomaly rate\n",
    "plt.figure(figsize=(8, 4))\n",
    "plt.plot(hourly[\"hour\"], hourly[\"percent_anomaly\"], marker=\"o\", linestyle=\"-\", color=\"purple\")\n",
    "plt.xlabel(\"Hour of Day (US/Eastern)\")\n",
    "plt.ylabel(\"% of Rows with Anomaly\")\n",
    "plt.title(\"Hourly Anomaly Rate (Overall)\")\n",
    "plt.xticks(range(0, 24))\n",
    "plt.grid(alpha=0.3)\n",
    "plt.tight_layout()\n",
    "plt.show()\n"
   ]
  },
  {
   "cell_type": "code",
   "execution_count": null,
   "metadata": {},
   "outputs": [],
   "source": [
    "# Cell 11: Scatter of temp_C vs. humidity_%, colored by label_overall\n",
    "colors = df[\"label_overall\"].map({\"normal\": \"blue\", \"anomaly\": \"red\"})\n",
    "plt.figure(figsize=(6, 6))\n",
    "plt.scatter(df[\"temp_C\"], df[\"humidity_%\"], c=colors, alpha=0.6, s=20)\n",
    "plt.xlabel(\"Temperature (°C)\")\n",
    "plt.ylabel(\"Humidity (%)\")\n",
    "plt.title(\"Temperature vs. Humidity (Red = Anomaly)\")\n",
    "plt.tight_layout()\n",
    "plt.show()\n"
   ]
  },
  {
   "cell_type": "code",
   "execution_count": null,
   "metadata": {},
   "outputs": [],
   "source": [
    "# Cell 12: Export summaries\n",
    "export_dir = Path().resolve().parent / \"data\" / \"results\"\n",
    "export_dir.mkdir(parents=True, exist_ok=True)\n",
    "\n",
    "# 10.1 Per-feature counts\n",
    "feature_counts.to_csv(export_dir / \"feature_anomaly_counts.csv\", index=False)\n",
    "\n",
    "# 10.2 Hourly anomaly percentages\n",
    "hourly.to_csv(export_dir / \"hourly_anomaly_percent.csv\", index=False)\n",
    "\n",
    "print(\"Exported feature and hourly anomaly summaries to:\")\n",
    "print(f\" • {export_dir / 'feature_anomaly_counts.csv'}\")\n",
    "print(f\" • {export_dir / 'hourly_anomaly_percent.csv'}\")\n"
   ]
  }
 ],
 "metadata": {
  "kernelspec": {
   "display_name": "Python 3",
   "language": "python",
   "name": "python3"
  },
  "language_info": {
   "codemirror_mode": {
    "name": "ipython",
    "version": 3
   },
   "file_extension": ".py",
   "mimetype": "text/x-python",
   "name": "python",
   "nbconvert_exporter": "python",
   "pygments_lexer": "ipython3",
   "version": "3.12.9"
  }
 },
 "nbformat": 4,
 "nbformat_minor": 2
}
