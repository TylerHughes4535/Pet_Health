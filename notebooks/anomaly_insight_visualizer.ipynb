{
 "cells": [
  {
   "cell_type": "markdown",
   "metadata": {},
   "source": [
    "# New Data Labeled Analytics\n",
    "\n",
    "This notebook loads `data/results/new_data_labeled.csv` (the output of our anomaly‐detection pipeline) and performs basic analytics on the newly labeled data:  \n",
    "1. Previewing the data  \n",
    "2. Descriptive statistics of sensor readings  \n",
    "3. Counting anomalies per feature  \n",
    "4. Visualizing anomaly rates  \n",
    "5. Time‐based summaries (e.g., hourly anomaly counts)"
   ]
  },
  {
   "cell_type": "code",
   "execution_count": null,
   "metadata": {},
   "outputs": [],
   "source": [
    "import pandas as pd\n",
    "import matplotlib.pyplot as plt\n",
    "from pathlib import Path\n",
    "\n",
    "# Define the path to the labeled CSV\n",
    "notebook_dir = Path().resolve()\n",
    "labeled_path = notebook_dir / \"..\" / \"data\" / \"results\" / \"new_data_labeled.csv\"\n",
    "\n",
    "# Verify that the file exists\n",
    "if not labeled_path.exists():\n",
    "    raise FileNotFoundError(f\"{labeled_path} not found.\")"
   ]
  },
  {
   "cell_type": "code",
   "execution_count": null,
   "metadata": {},
   "outputs": [],
   "source": [
    "# Load the labeled DataFrame\n",
    "df = pd.read_csv(labeled_path, parse_dates=[\"timestamp\"])\n",
    "\n",
    "# Show first few rows and column info\n",
    "display(df.head())\n",
    "df.info()"
   ]
  },
  {
   "cell_type": "code",
   "execution_count": null,
   "metadata": {},
   "outputs": [],
   "source": [
    "# Select only the numeric sensor columns for statistics\n",
    "numeric_cols = [\"temp_C\", \"humidity_%\", \"accel_x\", \"accel_y\", \"accel_z\"]\n",
    "\n",
    "# Display descriptive stats\n",
    "desc_stats = df[numeric_cols].describe().T\n",
    "desc_stats"
   ]
  },
  {
   "cell_type": "code",
   "execution_count": null,
   "metadata": {},
   "outputs": [],
   "source": [
    "# List of features to examine\n",
    "features = [\"temp_C\", \"humidity_%\", \"accel_x\", \"accel_y\", \"accel_z\"]\n",
    "\n",
    "# Build a table of normal vs. anomaly counts\n",
    "anomaly_counts = {}\n",
    "for feat in features:\n",
    "    label_col = f\"label_{feat}\"\n",
    "    counts = df[label_col].value_counts()\n",
    "    anomaly_counts[feat] = {\n",
    "        \"normal\": int(counts.get(\"normal\", 0)),\n",
    "        \"anomaly\": int(counts.get(\"anomaly\", 0))\n",
    "    }\n",
    "\n",
    "counts_df = pd.DataFrame(anomaly_counts).T\n",
    "counts_df[\"percent_anomaly\"] = (\n",
    "    counts_df[\"anomaly\"] / (counts_df.sum(axis=1)) * 100\n",
    ").round(2)\n",
    "\n",
    "counts_df"
   ]
  },
  {
   "cell_type": "code",
   "execution_count": null,
   "metadata": {},
   "outputs": [],
   "source": [
    "plt.figure(figsize=(6, 4))\n",
    "plt.bar(\n",
    "    counts_df.index,\n",
    "    counts_df[\"percent_anomaly\"],\n",
    "    color=\"skyblue\",\n",
    "    edgecolor=\"black\"\n",
    ")\n",
    "plt.ylabel(\"% of Rows Flagged Anomaly\")\n",
    "plt.title(\"Anomaly Rate by Feature\")\n",
    "plt.xticks(rotation=45)\n",
    "plt.tight_layout()\n",
    "plt.show()\n"
   ]
  },
  {
   "cell_type": "code",
   "execution_count": null,
   "metadata": {},
   "outputs": [],
   "source": [
    "# Create a boolean column: True if any feature was flagged\n",
    "df[\"any_anomaly\"] = df.apply(\n",
    "    lambda row: any(row[f\"label_{feat}\"] == \"anomaly\" for feat in features),\n",
    "    axis=1\n",
    ")\n",
    "\n",
    "summary = {\n",
    "    \"all_normal\": int((df[\"any_anomaly\"] == False).sum()),\n",
    "    \"at_least_one_anomaly\": int((df[\"any_anomaly\"] == True).sum())\n",
    "}\n",
    "pd.DataFrame.from_dict(summary, orient=\"index\", columns=[\"count\"])\n"
   ]
  },
  {
   "cell_type": "code",
   "execution_count": null,
   "metadata": {},
   "outputs": [],
   "source": [
    "# Ensure timestamp is timezone‐aware or naive datetime\n",
    "df[\"timestamp\"] = pd.to_datetime(df[\"timestamp\"])\n",
    "\n",
    "# Extract hour\n",
    "df[\"hour\"] = df[\"timestamp\"].dt.hour\n",
    "\n",
    "# Count how many anomaly rows occur in each hour\n",
    "hourly_anomaly_counts = df[df[\"any_anomaly\"]].groupby(\"hour\").size().rename(\"anomaly_count\").reset_index()\n",
    "\n",
    "plt.figure(figsize=(8, 4))\n",
    "plt.plot(hourly_anomaly_counts[\"hour\"], hourly_anomaly_counts[\"anomaly_count\"], marker=\"o\", linestyle=\"-\")\n",
    "plt.xlabel(\"Hour of Day\")\n",
    "plt.ylabel(\"Number of Anomalous Rows\")\n",
    "plt.title(\"Hourly Count of Rows with ≥1 Anomaly\")\n",
    "plt.xticks(range(0, 24))\n",
    "plt.grid(alpha=0.3)\n",
    "plt.tight_layout()\n",
    "plt.show()\n",
    "\n",
    "hourly_anomaly_counts\n"
   ]
  },
  {
   "cell_type": "code",
   "execution_count": null,
   "metadata": {},
   "outputs": [],
   "source": [
    "# Compute Pearson correlation on the numeric sensor columns\n",
    "corr_matrix = df[numeric_cols].corr().round(2)\n",
    "\n",
    "plt.figure(figsize=(5, 5))\n",
    "plt.imshow(corr_matrix, vmin=-1, vmax=1)\n",
    "plt.colorbar(fraction=0.046, pad=0.04)\n",
    "plt.xticks(range(len(numeric_cols)), numeric_cols, rotation=45)\n",
    "plt.yticks(range(len(numeric_cols)), numeric_cols)\n",
    "plt.title(\"Correlation Matrix (new_data_labeled.csv)\")\n",
    "plt.tight_layout()\n",
    "plt.show()\n",
    "\n",
    "corr_matrix\n"
   ]
  },
  {
   "cell_type": "code",
   "execution_count": null,
   "metadata": {},
   "outputs": [],
   "source": [
    "# Example: scatter of temp_C vs. humidity_% colored by anomaly\n",
    "colors = df[\"label_temp_C\"].map({\"normal\": \"blue\", \"anomaly\": \"red\"})\n",
    "plt.figure(figsize=(6, 6))\n",
    "plt.scatter(df[\"temp_C\"], df[\"humidity_%\"], c=colors, alpha=0.6, s=20)\n",
    "plt.xlabel(\"Temperature (°C)\")\n",
    "plt.ylabel(\"Humidity (%)\")\n",
    "plt.title(\"Temp vs Humidity (Red = Temp Anomaly)\")\n",
    "plt.tight_layout()\n",
    "plt.show()\n"
   ]
  }
 ],
 "metadata": {
  "kernelspec": {
   "display_name": "Python 3",
   "language": "python",
   "name": "python3"
  },
  "language_info": {
   "codemirror_mode": {
    "name": "ipython",
    "version": 3
   },
   "file_extension": ".py",
   "mimetype": "text/x-python",
   "name": "python",
   "nbconvert_exporter": "python",
   "pygments_lexer": "ipython3",
   "version": "3.12.9"
  }
 },
 "nbformat": 4,
 "nbformat_minor": 2
}
