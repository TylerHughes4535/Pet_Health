{
 "cells": [
  {
   "cell_type": "markdown",
   "metadata": {},
   "source": [
    "# AI Anomaly Detection Workflow\n",
    "\n",
    "This notebook walks through the entire AI setup—loading baseline data, training IsolationForest models, saving them, loading new (unlabeled) data, predicting anomalies feature‐by‐feature, and saving a labeled CSV. You can run each cell in order.\n",
    "\n",
    "---"
   ]
  },
  {
   "cell_type": "code",
   "execution_count": null,
   "metadata": {},
   "outputs": [],
   "source": [
    "### Cell 1 – Import Libraries and Define Paths\n",
    "import os\n",
    "from pathlib import Path\n",
    "import pandas as pd\n",
    "import pickle\n",
    "from sklearn.ensemble import IsolationForest\n",
    "import matplotlib.pyplot as plt\n",
    "\n",
    "# Define project‐root and subfolders\n",
    "project_root = Path().resolve()\n",
    "data_dir     = project_root / \"data\"\n",
    "model_dir    = project_root / \"model\"\n",
    "results_dir  = data_dir / \"results\"\n",
    "\n",
    "# Ensure folders exist\n",
    "data_dir.mkdir(exist_ok=True)\n",
    "model_dir.mkdir(exist_ok=True)\n",
    "results_dir.mkdir(parents=True, exist_ok=True)\n",
    "\n",
    "# File paths\n",
    "baseline_path      = data_dir / \"baseline.csv\"\n",
    "new_data_path      = data_dir / \"new_data.csv\"\n",
    "model_path         = model_dir / \"anomaly_models.pkl\"\n",
    "labeled_output_path = results_dir / \"new_data_labeled.csv\""
   ]
  }
 ],
 "metadata": {
  "kernelspec": {
   "display_name": "Python 3",
   "language": "python",
   "name": "python3"
  },
  "language_info": {
   "codemirror_mode": {
    "name": "ipython",
    "version": 3
   },
   "file_extension": ".py",
   "mimetype": "text/x-python",
   "name": "python",
   "nbconvert_exporter": "python",
   "pygments_lexer": "ipython3",
   "version": "3.12.9"
  }
 },
 "nbformat": 4,
 "nbformat_minor": 2
}
